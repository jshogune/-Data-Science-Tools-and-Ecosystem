{
 "cells": [
  {
   "cell_type": "markdown",
   "id": "40fabb54-26ce-4444-92d9-00ef7da13f3d",
   "metadata": {},
   "source": [
    "# Data Science Tools and Ecosystem\n"
   ]
  },
  {
   "cell_type": "markdown",
   "id": "1bb6777f-6048-461f-9f6c-74ed741461a3",
   "metadata": {},
   "source": [
    "In this notebook, Data Science Tools and Ecosystem are summarized"
   ]
  },
  {
   "cell_type": "markdown",
   "id": "302e3def-6450-4f75-a7f9-e01c2fa85269",
   "metadata": {},
   "source": [
    "Some of the popular languages that Data Scientists use are:\n",
    "1. Python\n",
    "2. R\n",
    "3. SQL\n",
    "4. Java\n",
    "5. Julia\n",
    "6. C++\n",
    "   "
   ]
  },
  {
   "cell_type": "markdown",
   "id": "6689ecea-3058-4b7e-b048-141e121562a1",
   "metadata": {},
   "source": [
    "Some of the commonly used libraries used by Data Scientists include:\n",
    "1. NumPy\n",
    "2. Pandas\n",
    "3. SciPy\n",
    "4. PyTorch\n",
    "5. Matplotlib"
   ]
  },
  {
   "cell_type": "markdown",
   "id": "5ab17496-05cc-4901-b013-ccb813a2d588",
   "metadata": {},
   "source": [
    "# Data Science Tools\n",
    "\n",
    "| Tool Name |\n",
    "|:---------|\n",
    "| JupyterNotebook |\n",
    "| RStudio |\n",
    "| Google Colab |\n",
    "\n",
    "\n"
   ]
  },
  {
   "cell_type": "markdown",
   "id": "51d78ba3-4b94-47f4-b424-9a42f28b85e1",
   "metadata": {},
   "source": [
    "### Below are a few examples of evaluating arithmetic expressions in Python.\r\n"
   ]
  },
  {
   "cell_type": "code",
   "execution_count": 39,
   "id": "0b2e3bdd-f80f-4da4-8d32-cb23bed4ffe2",
   "metadata": {},
   "outputs": [
    {
     "data": {
      "text/plain": [
       "17"
      ]
     },
     "execution_count": 39,
     "metadata": {},
     "output_type": "execute_result"
    }
   ],
   "source": [
    "# This a simple arithmetic expression to mutiply then add integers\n",
    "\n",
    "(4*3)+5"
   ]
  },
  {
   "cell_type": "code",
   "execution_count": 29,
   "id": "9068d00e-e665-49fb-ace8-8d78ae27d0b5",
   "metadata": {},
   "outputs": [
    {
     "name": "stdout",
     "output_type": "stream",
     "text": [
      "3.33\n"
     ]
    }
   ],
   "source": [
    "#This will convert 200 minutes to hours by diving by 60\n",
    "x = 60\n",
    "y = 200\n",
    "z = y/x\n",
    "zz = round(z, 2)\n",
    "print(zz)\n"
   ]
  },
  {
   "cell_type": "markdown",
   "id": "58ac25a6-fb02-4dfd-a336-a6398a7192d6",
   "metadata": {},
   "source": [
    "**Objectives**\n",
    "* Become familiar with popular dev environments for Data Science\n",
    "* Summarize the popular languages used for Data Science\n",
    "* Become familiar with repostiory environments used for collaboration and version control\n"
   ]
  },
  {
   "cell_type": "markdown",
   "id": "2a007bd1-2998-4b48-a685-ae31922749ce",
   "metadata": {},
   "source": [
    "## Author\n",
    "Jacob"
   ]
  },
  {
   "cell_type": "code",
   "execution_count": null,
   "id": "33022d65-e807-462b-8488-ca722669a9b9",
   "metadata": {},
   "outputs": [],
   "source": []
  }
 ],
 "metadata": {
  "kernelspec": {
   "display_name": "Python 3 (ipykernel)",
   "language": "python",
   "name": "python3"
  },
  "language_info": {
   "codemirror_mode": {
    "name": "ipython",
    "version": 3
   },
   "file_extension": ".py",
   "mimetype": "text/x-python",
   "name": "python",
   "nbconvert_exporter": "python",
   "pygments_lexer": "ipython3",
   "version": "3.11.7"
  }
 },
 "nbformat": 4,
 "nbformat_minor": 5
}
